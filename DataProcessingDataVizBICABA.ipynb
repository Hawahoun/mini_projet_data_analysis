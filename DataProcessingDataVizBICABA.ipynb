{
  "nbformat": 4,
  "nbformat_minor": 0,
  "metadata": {
    "colab": {
      "provenance": []
    },
    "kernelspec": {
      "name": "python3",
      "display_name": "Python 3"
    },
    "language_info": {
      "name": "python"
    }
  },
  "cells": [
    {
      "cell_type": "code",
      "execution_count": 2,
      "metadata": {
        "id": "zoq035J7Ql6X"
      },
      "outputs": [],
      "source": [
        "# Mini Projet - Data Extraction Burkina Faso\n",
        "import pandas as pd\n",
        "import zipfile\n",
        "import requests\n"
      ]
    },
    {
      "cell_type": "code",
      "source": [
        "# Telechargement du fichier BF.zip\n",
        "url = \"https://download.geonames.org/export/dump/BF.zip\"\n",
        "\n",
        "zip_path = \"BF.zip\"\n",
        "\n",
        "print(\"Téléchargement des données\")\n",
        "response = requests.get(url)\n",
        "with open(zip_path, \"wb\") as f:\n",
        "    f.write(response.content)\n",
        "print(\"Téléchargement terminé\")"
      ],
      "metadata": {
        "colab": {
          "base_uri": "https://localhost:8080/"
        },
        "id": "AGd806NMYLGi",
        "outputId": "3d65ef2f-9789-47ec-af25-39c89793b13d"
      },
      "execution_count": 3,
      "outputs": [
        {
          "output_type": "stream",
          "name": "stdout",
          "text": [
            "Téléchargement des données\n",
            "Téléchargement terminé\n"
          ]
        }
      ]
    },
    {
      "cell_type": "code",
      "source": [
        "# Extraction du fichier\n",
        "print(\"Extraction du fichier\")\n",
        "with zipfile.ZipFile(zip_path, 'r') as z:\n",
        "    z.extractall(\"data\")\n",
        "print(\"Extraction terminée\")"
      ],
      "metadata": {
        "colab": {
          "base_uri": "https://localhost:8080/"
        },
        "id": "tdIwUprCYtd4",
        "outputId": "709ed514-9669-4ac4-dd6f-a42c1d2604c3"
      },
      "execution_count": 4,
      "outputs": [
        {
          "output_type": "stream",
          "name": "stdout",
          "text": [
            "Extraction du fichier\n",
            "Extraction terminée\n"
          ]
        }
      ]
    },
    {
      "cell_type": "code",
      "source": [
        "# Lecture des donnees\n",
        "cols = [\n",
        "    \"geonameid\", \"name\", \"asciiname\", \"alternatenames\",\n",
        "    \"latitude\", \"longitude\", \"feature class\", \"feature code\",\n",
        "    \"country code\", \"cc2\", \"admin1 code\", \"admin2 code\",\n",
        "    \"admin3 code\", \"admin4 code\", \"population\", \"elevation\",\n",
        "    \"dem\", \"timezone\", \"modification date\"\n",
        "]\n",
        "df = pd.read_csv(\"data/BF.txt\", sep=\"\\t\", header=None, names=cols)\n",
        "\n",
        "# Extraction des colonnes utiles et renommage\n",
        "df = df[[\"geonameid\", \"name\", \"latitude\", \"longitude\"]]\n",
        "df.columns = [\"ID\", \"location_name\", \"lat\", \"long\"]\n",
        "print(df)"
      ],
      "metadata": {
        "colab": {
          "base_uri": "https://localhost:8080/"
        },
        "id": "gz-caO4oZ0qo",
        "outputId": "23c83e97-58a3-4f35-e2b5-23c5e1466aa1"
      },
      "execution_count": 11,
      "outputs": [
        {
          "output_type": "stream",
          "name": "stdout",
          "text": [
            "             ID       location_name       lat     long\n",
            "0       2282318              Pouéné   9.72908 -2.78660\n",
            "1       2285251  Léraba Occidentale  10.28333 -5.11667\n",
            "2       2287216           Kéléouoro   9.80748 -4.05023\n",
            "3       2294066         White Volta   8.70194 -0.99056\n",
            "4       2298457        Issana Bouga  10.91667 -1.18333\n",
            "...         ...                 ...       ...      ...\n",
            "11953  13494828           Tounougou  11.21462 -0.06965\n",
            "11954  13494829               Karmé  11.66346  0.08201\n",
            "11955  13494830           Damdamkom  11.14989  0.43655\n",
            "11956  13494831             Dazenré  11.43801  0.21293\n",
            "11957  13494832         Pogoyoaguen  11.44725  0.21074\n",
            "\n",
            "[11958 rows x 4 columns]\n"
          ]
        }
      ]
    },
    {
      "cell_type": "code",
      "source": [
        "# Sauvegardons le fichier burkina_location.csv\n",
        "df.to_csv(\"burkina_location.csv\", index=False)\n",
        "print(\" burkina_location.csv créé\")"
      ],
      "metadata": {
        "colab": {
          "base_uri": "https://localhost:8080/"
        },
        "id": "hMhVhH8GbuIh",
        "outputId": "b57e81a8-913f-4784-e625-51b4e4cdc5ce"
      },
      "execution_count": 6,
      "outputs": [
        {
          "output_type": "stream",
          "name": "stdout",
          "text": [
            " burkina_location.csv créé\n"
          ]
        }
      ]
    },
    {
      "cell_type": "code",
      "source": [
        "# Extraction des lieux contenant 'gounghin'\n",
        "gounghin_df = df[df[\"location_name\"].str.contains(\"gounghin\", case=False)]\n",
        "gounghin_df.to_csv(\"gounghin.csv\", index=False)\n",
        "print(\"gounghin.csv créé\")"
      ],
      "metadata": {
        "colab": {
          "base_uri": "https://localhost:8080/"
        },
        "id": "Hiav1pm-ctPD",
        "outputId": "d3edc09b-62ff-415d-c2ea-b97670cced6d"
      },
      "execution_count": 7,
      "outputs": [
        {
          "output_type": "stream",
          "name": "stdout",
          "text": [
            "gounghin.csv créé\n"
          ]
        }
      ]
    },
    {
      "cell_type": "code",
      "source": [
        "# Extraction des lieux dont les noms commencent entre A et P\n",
        "A_to_P_df = df[df[\"location_name\"].str[0].str.upper().between(\"A\", \"P\")]\n",
        "A_to_P_df.to_csv(\"A_to_P.csv\", index=False)"
      ],
      "metadata": {
        "id": "zgIncuDUp8E3"
      },
      "execution_count": 8,
      "outputs": []
    },
    {
      "cell_type": "code",
      "source": [
        "# Latitude et longituge minimale\n",
        "\n",
        "# Latitude minimale\n",
        "lat_min = A_to_P_df[\"lat\"].min()\n",
        "lat_min_places = A_to_P_df[A_to_P_df[\"lat\"] == lat_min]\n",
        "\n",
        "# Longitude minimale\n",
        "long_min = A_to_P_df[\"long\"].min()\n",
        "long_min_places = A_to_P_df[A_to_P_df[\"long\"] == long_min]\n",
        "\n",
        "print(\"\\n Latitude minimale :\")\n",
        "print(lat_min_places)\n",
        "\n",
        "print(\"\\n Longitude minimale :\")\n",
        "print(long_min_places)\n",
        "\n"
      ],
      "metadata": {
        "colab": {
          "base_uri": "https://localhost:8080/"
        },
        "id": "YQKaYdDTqwD5",
        "outputId": "b898d880-d1d9-46a3-c1f5-979e45722353"
      },
      "execution_count": 9,
      "outputs": [
        {
          "output_type": "stream",
          "name": "stdout",
          "text": [
            "\n",
            " Latitude minimale :\n",
            "           ID location_name      lat     long\n",
            "6017  2359210         Komoé  5.21609 -3.71793\n",
            "\n",
            " Longitude minimale :\n",
            "           ID location_name       lat     long\n",
            "4220  2357400      Banifing  12.01147 -5.65968\n"
          ]
        }
      ]
    },
    {
      "cell_type": "code",
      "source": [
        "# les Coordonnées qui respectent ces conditions (lat >= 11 et long <= 0.5)\n",
        "coord_filter = df[(df[\"lat\"] >= 11) & (df[\"long\"] <= 0.5)]\n",
        "print(\"\\n Lieux avec lat >= 11 et long <= 0.5 :\")\n",
        "print(coord_filter)\n",
        "\n",
        "# Création du fichier Excel\n",
        "with pd.ExcelWriter(\"mini_projet.xlsx\") as writer:\n",
        "    gounghin_df.to_excel(writer, sheet_name=\"gounghin\", index=False)\n",
        "    A_to_P_df.to_excel(writer, sheet_name=\"A_to_P\", index=False)\n",
        "\n",
        "print(\"\\n mini_projet.xlsx créé avec les deux feuilles\")\n",
        "\n"
      ],
      "metadata": {
        "colab": {
          "base_uri": "https://localhost:8080/"
        },
        "id": "OzTv7QLSriIF",
        "outputId": "e92208c5-9412-4119-d8cf-310e71ec533e"
      },
      "execution_count": 10,
      "outputs": [
        {
          "output_type": "stream",
          "name": "stdout",
          "text": [
            "\n",
            " Lieux avec lat >= 11 et long <= 0.5 :\n",
            "             ID location_name       lat     long\n",
            "5       2353158      Zyonguen  12.36667 -0.45000\n",
            "6       2353159     Zyiliwèlè  12.38333 -2.73333\n",
            "7       2353160        Zyanko  12.78333 -0.41667\n",
            "8       2353161         Zouta  13.14908 -1.28197\n",
            "9       2353162     Zourtenga  12.95741 -1.28745\n",
            "...         ...           ...       ...      ...\n",
            "11953  13494828     Tounougou  11.21462 -0.06965\n",
            "11954  13494829         Karmé  11.66346  0.08201\n",
            "11955  13494830     Damdamkom  11.14989  0.43655\n",
            "11956  13494831       Dazenré  11.43801  0.21293\n",
            "11957  13494832   Pogoyoaguen  11.44725  0.21074\n",
            "\n",
            "[9466 rows x 4 columns]\n",
            "\n",
            " mini_projet.xlsx créé avec les deux feuilles\n"
          ]
        }
      ]
    }
  ]
}