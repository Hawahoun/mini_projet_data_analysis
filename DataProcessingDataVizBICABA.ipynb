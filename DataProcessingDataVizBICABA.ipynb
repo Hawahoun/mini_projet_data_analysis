{
  "nbformat": 4,
  "nbformat_minor": 0,
  "metadata": {
    "colab": {
      "provenance": []
    },
    "kernelspec": {
      "name": "python3",
      "display_name": "Python 3"
    },
    "language_info": {
      "name": "python"
    }
  },
  "cells": [
    {
      "cell_type": "code",
      "execution_count": 1,
      "metadata": {
        "id": "zoq035J7Ql6X"
      },
      "outputs": [],
      "source": [
        "# Mini Projet - Data Extraction Burkina Faso\n",
        "import pandas as pd\n",
        "import zipfile\n",
        "import requests\n"
      ]
    },
    {
      "cell_type": "code",
      "source": [
        "# Telechargement du fichier BF.zip\n",
        "url = \"https://download.geonames.org/export/dump/BF.zip\"\n",
        "\n",
        "zip_path = \"BF.zip\"\n",
        "\n",
        "print(\"Téléchargement des données\")\n",
        "response = requests.get(url)\n",
        "with open(zip_path, \"wb\") as f:\n",
        "    f.write(response.content)\n",
        "print(\"Téléchargement terminé\")"
      ],
      "metadata": {
        "colab": {
          "base_uri": "https://localhost:8080/"
        },
        "id": "AGd806NMYLGi",
        "outputId": "e0b21349-465b-4220-9c4b-c5ec01748e71"
      },
      "execution_count": 2,
      "outputs": [
        {
          "output_type": "stream",
          "name": "stdout",
          "text": [
            "Téléchargement des données\n",
            "Téléchargement terminé\n"
          ]
        }
      ]
    },
    {
      "cell_type": "code",
      "source": [
        "# Extraction du fichier\n",
        "print(\"Extraction du fichier\")\n",
        "with zipfile.ZipFile(zip_path, 'r') as z:\n",
        "    z.extractall(\"data\")\n",
        "print(\"Extraction terminée\")"
      ],
      "metadata": {
        "colab": {
          "base_uri": "https://localhost:8080/"
        },
        "id": "tdIwUprCYtd4",
        "outputId": "7eb26ee2-e6fd-40ce-c1e6-f3aad4cc0681"
      },
      "execution_count": 3,
      "outputs": [
        {
          "output_type": "stream",
          "name": "stdout",
          "text": [
            "Extraction du fichier\n",
            "Extraction terminée\n"
          ]
        }
      ]
    },
    {
      "cell_type": "code",
      "source": [
        "# Lecture des donnees\n",
        "cols = [\n",
        "    \"geonameid\", \"name\", \"asciiname\", \"alternatenames\",\n",
        "    \"latitude\", \"longitude\", \"feature class\", \"feature code\",\n",
        "    \"country code\", \"cc2\", \"admin1 code\", \"admin2 code\",\n",
        "    \"admin3 code\", \"admin4 code\", \"population\", \"elevation\",\n",
        "    \"dem\", \"timezone\", \"modification date\"\n",
        "]\n",
        "df = pd.read_csv(\"data/BF.txt\", sep=\"\\t\", header=None, names=cols)\n",
        "\n",
        "# Extraction des colonnes utiles et renommage\n",
        "df = df[[\"geonameid\", \"name\", \"latitude\", \"longitude\"]]\n",
        "df.columns = [\"ID\", \"location_name\", \"lat\", \"long\"]"
      ],
      "metadata": {
        "id": "gz-caO4oZ0qo"
      },
      "execution_count": 5,
      "outputs": []
    },
    {
      "cell_type": "code",
      "source": [
        "# Sauvegardons le fichier burkina_location.csv\n",
        "df.to_csv(\"burkina_location.csv\", index=False)\n",
        "print(\"✅ burkina_location.csv créé\")"
      ],
      "metadata": {
        "colab": {
          "base_uri": "https://localhost:8080/"
        },
        "id": "hMhVhH8GbuIh",
        "outputId": "8ff1ad34-8680-4bfd-c27c-480dfe389808"
      },
      "execution_count": 6,
      "outputs": [
        {
          "output_type": "stream",
          "name": "stdout",
          "text": [
            "✅ burkina_location.csv créé\n"
          ]
        }
      ]
    },
    {
      "cell_type": "code",
      "source": [
        "# Extraction des lieux contenant 'gounghin'\n",
        "gounghin_df = df[df[\"location_name\"].str.contains(\"gounghin\", case=False)]\n",
        "gounghin_df.to_csv(\"gounghin.csv\", index=False)\n",
        "print(\"gounghin.csv créé\")"
      ],
      "metadata": {
        "colab": {
          "base_uri": "https://localhost:8080/"
        },
        "id": "Hiav1pm-ctPD",
        "outputId": "56b1421b-b562-4a65-9b0c-44e94698f885"
      },
      "execution_count": 7,
      "outputs": [
        {
          "output_type": "stream",
          "name": "stdout",
          "text": [
            "gounghin.csv créé\n"
          ]
        }
      ]
    },
    {
      "cell_type": "code",
      "source": [
        "# Extraction des lieux dont les noms commencent entre A et P\n",
        "A_to_P_df = df[df[\"location_name\"].str[0].str.upper().between(\"A\", \"P\")]\n",
        "A_to_P_df.to_csv(\"A_to_P.csv\", index=False)"
      ],
      "metadata": {
        "id": "zgIncuDUp8E3"
      },
      "execution_count": 8,
      "outputs": []
    },
    {
      "cell_type": "code",
      "source": [
        "# Latitude et longituge minimale\n",
        "\n",
        "# Latitude minimale\n",
        "lat_min = A_to_P_df[\"lat\"].min()\n",
        "lat_min_places = A_to_P_df[A_to_P_df[\"lat\"] == lat_min]\n",
        "\n",
        "# Longitude minimale\n",
        "long_min = A_to_P_df[\"long\"].min()\n",
        "long_min_places = A_to_P_df[A_to_P_df[\"long\"] == long_min]\n",
        "\n",
        "print(\"\\n Latitude minimale :\")\n",
        "print(lat_min_places)\n",
        "\n",
        "print(\"\\n Longitude minimale :\")\n",
        "print(long_min_places)\n",
        "\n"
      ],
      "metadata": {
        "colab": {
          "base_uri": "https://localhost:8080/"
        },
        "id": "YQKaYdDTqwD5",
        "outputId": "0f648233-6c05-4def-9d4d-6f0be5b9d2a6"
      },
      "execution_count": 9,
      "outputs": [
        {
          "output_type": "stream",
          "name": "stdout",
          "text": [
            "\n",
            " Latitude minimale :\n",
            "           ID location_name      lat     long\n",
            "6017  2359210         Komoé  5.21609 -3.71793\n",
            "\n",
            " Longitude minimale :\n",
            "           ID location_name       lat     long\n",
            "4220  2357400      Banifing  12.01147 -5.65968\n"
          ]
        }
      ]
    },
    {
      "cell_type": "code",
      "source": [
        "# les Coordonnées qui respectent ces conditions (lat >= 11 et long <= 0.5)\n",
        "coord_filter = df[(df[\"lat\"] >= 11) & (df[\"long\"] <= 0.5)]\n",
        "print(\"\\n Lieux avec lat >= 11 et long <= 0.5 :\")\n",
        "print(coord_filter)\n",
        "\n",
        "# Création du fichier Excel\n",
        "with pd.ExcelWriter(\"mini_projet.xlsx\") as writer:\n",
        "    gounghin_df.to_excel(writer, sheet_name=\"gounghin\", index=False)\n",
        "    A_to_P_df.to_excel(writer, sheet_name=\"A_to_P\", index=False)\n",
        "\n",
        "print(\"\\n mini_projet.xlsx créé avec les deux feuilles\")\n",
        "\n"
      ],
      "metadata": {
        "colab": {
          "base_uri": "https://localhost:8080/"
        },
        "id": "OzTv7QLSriIF",
        "outputId": "b6a57591-bc4d-4ee2-a14e-f12950d1383f"
      },
      "execution_count": 11,
      "outputs": [
        {
          "output_type": "stream",
          "name": "stdout",
          "text": [
            "\n",
            " Lieux avec lat >= 11 et long <= 0.5 :\n",
            "             ID location_name       lat     long\n",
            "5       2353158      Zyonguen  12.36667 -0.45000\n",
            "6       2353159     Zyiliwèlè  12.38333 -2.73333\n",
            "7       2353160        Zyanko  12.78333 -0.41667\n",
            "8       2353161         Zouta  13.14908 -1.28197\n",
            "9       2353162     Zourtenga  12.95741 -1.28745\n",
            "...         ...           ...       ...      ...\n",
            "11953  13494828     Tounougou  11.21462 -0.06965\n",
            "11954  13494829         Karmé  11.66346  0.08201\n",
            "11955  13494830     Damdamkom  11.14989  0.43655\n",
            "11956  13494831       Dazenré  11.43801  0.21293\n",
            "11957  13494832   Pogoyoaguen  11.44725  0.21074\n",
            "\n",
            "[9466 rows x 4 columns]\n",
            "\n",
            " mini_projet.xlsx créé avec les deux feuilles\n"
          ]
        }
      ]
    }
  ]
}